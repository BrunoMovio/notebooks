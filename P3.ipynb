{
 "cells": [
  {
   "cell_type": "code",
   "execution_count": 1,
   "metadata": {},
   "outputs": [],
   "source": [
    "import pandas as pd\n",
    "import numpy as np\n",
    "import matplotlib.pyplot as plt\n",
    "import math\n",
    "\n",
    "%matplotlib inline"
   ]
  },
  {
   "cell_type": "markdown",
   "metadata": {},
   "source": [
    "# Método de Euler \n",
    "\n",
    "Queremos achar a solução de:\n",
    "\n",
    "### $\\frac{dy}{dx} = f(x, y)$\n",
    "Consideramos que: $y_0 = y(x_0)$\n",
    "\n",
    "Definimos o intervalo\n",
    "### $I = [x_0, x_f]$\n",
    "Onde $y(x)$ é contínua\n",
    "\n",
    "E tomamos $n$ pontos $x_l$ igualmente espaçados por $h$:\n",
    "### $h = \\frac{x_f - x_0}{n}$\n",
    "\n",
    "Sendo que:\n",
    "### $x_l = x_0 + hl, l = 0, 1, 2, ..., n$\n",
    "\n",
    "E aí fazendo umas expansões de taylor loucas e tal a gente chega em:\n",
    "\n",
    "### $y_{l+1} = f(x_l, y_l)h$\n",
    "### $y_0 = y(x_0)$\n",
    "### $h=\\frac{x_f - x_0}{n}$\n",
    "### $l = 0, 1, 2, ..., n-1$"
   ]
  },
  {
   "cell_type": "code",
   "execution_count": 2,
   "metadata": {},
   "outputs": [],
   "source": [
    "def metodo_de_euler(y0, n, I, f):\n",
    "    \"\"\"\n",
    "    y0: valor inicial de y\n",
    "    n: quantos pontos teremos no dominio I\n",
    "    I: lista do tipo [x0, xf]\n",
    "    f: função do tipo f(x,y) callback que com base em valor de x e y, retorna resultado \n",
    "    \"\"\"\n",
    "    x = []\n",
    "    y = [y0]\n",
    "    h = (I[1] - I[0])/n\n",
    "    for l in range(n+1):\n",
    "        x.append(I[0] + h * l)\n",
    "    for i in range(1, n+1):\n",
    "        y.append(y[i-1] + h*f(x[i-1], y[i-1]))\n",
    "    return np.array(y)       "
   ]
  },
  {
   "cell_type": "code",
   "execution_count": 3,
   "metadata": {},
   "outputs": [
    {
     "name": "stdout",
     "output_type": "stream",
     "text": [
      "[1.         1.         0.99       0.9702     0.941094   0.90345024\n",
      " 0.85827773 0.80678106 0.75030639 0.69028188 0.62815651]\n"
     ]
    }
   ],
   "source": [
    "funcao = lambda x, y: -x*y\n",
    "I = [0, 1]\n",
    "n = 10\n",
    "y0 = 1\n",
    "print(metodo_de_euler(y0, n, I, funcao))"
   ]
  },
  {
   "cell_type": "markdown",
   "metadata": {},
   "source": [
    "# Método de Euler Modificado (ou Runge-Kutta de ordem 2)\n",
    "\n",
    "### $y_{l+1} = y_l + \\frac{h}{2} (K_1 + K_2)$\n",
    "\n",
    "### $K_1 = f(x_l, y_l)$\n",
    "### $K_2 = f(x_{l+1}, y_l + h \\times K_1)$\n",
    "\n",
    "## Prova \n",
    "![Confia](https://pt-static.z-dn.net/files/d9c/1929a38a25154c8991c29165efec84ca.jpg)"
   ]
  },
  {
   "cell_type": "code",
   "execution_count": 4,
   "metadata": {},
   "outputs": [],
   "source": [
    "def euler_modificado(y0, n, I, f):\n",
    "    \"\"\"\n",
    "    y0: valor inicial de y\n",
    "    n: quantos pontos teremos no dominio I\n",
    "    I: lista do tipo [x0, xf]\n",
    "    f: função do tipo f(x,y) callback que com base em valor de x e y, retorna resultado \n",
    "    \"\"\"\n",
    "    x = []\n",
    "    y = [y0]\n",
    "    h = (I[1] - I[0])/n\n",
    "    for l in range(n+1):\n",
    "        x.append(I[0] + h * l)\n",
    "    for l in range(1, n+1):\n",
    "        K1 = f(x[l-1], y[l-1])\n",
    "        K2 = f(x[l], y[l-1] + h*K1)\n",
    "        y.append(y[l-1] + (K1+K2)*h/2)\n",
    "    return np.array(y)"
   ]
  },
  {
   "cell_type": "code",
   "execution_count": 5,
   "metadata": {},
   "outputs": [
    {
     "name": "stdout",
     "output_type": "stream",
     "text": [
      "[2.         1.997      1.98205845 1.9437294  1.87209908 1.76033477\n",
      " 1.60639349 1.41432987 1.19455998 0.96260988 0.73634843]\n"
     ]
    }
   ],
   "source": [
    "funcao = lambda x, y: -3*x*x*y\n",
    "I = [0, 1]\n",
    "n = 10\n",
    "y0 = 2\n",
    "print(euler_modificado(y0, n, I, funcao))"
   ]
  },
  {
   "cell_type": "markdown",
   "metadata": {},
   "source": [
    "# Método de Euler para sistemas de EDO\n",
    "Tendo o sistema:\n",
    "### $ y' = f(x, y, z)\\\\z' = g(x, y, z)$\n",
    "\n",
    "Com condição inicial $y(x_0) = y_0, z(x_0) = z_0$\n",
    "\n",
    "A solução será do tipo\n",
    "### $Y(x_l) = \\begin{bmatrix} y(x_l) \\\\ z(x_l) \\end{bmatrix}$\n",
    "\n",
    "Sendo dado por:\n",
    "\n",
    "### $Y_{l+1} = Y_l + \\frac{h}{2} \\times (K_1 + K_2)$\n",
    "\n",
    "### $K_1 = \\begin{bmatrix} f(x_l, y_l, z_l) \\\\ g(x_l, y_l, z_l) \\end{bmatrix} =\n",
    "\\begin{bmatrix} K_{11} \\\\ K_{21} \\end{bmatrix}\n",
    "$\n",
    "\n",
    "### $K_2 = \\begin{bmatrix} \n",
    "f(x_{l+1}, y_l + h\\times K_{11}, z_l + h \\times K_{21} \\\\\n",
    "g(x_{l+1}, y_l + h\\times K_{11}, z_l + h \\times K_{21}\n",
    "\\end{bmatrix}$"
   ]
  },
  {
   "cell_type": "code",
   "execution_count": 36,
   "metadata": {},
   "outputs": [],
   "source": [
    "def euler_sistema(y0, z0, n, I, f, g):\n",
    "    \"\"\"\n",
    "    y0: valor inicial de y\n",
    "    z0: valor inicial de z\n",
    "    n: quantos pontos teremos no dominio I\n",
    "    I: lista do tipo [x0, xf]\n",
    "    f: função de callback do tipo f(x, y, z)\n",
    "    g: função de callback do tipo g(x, y, z)\n",
    "    \"\"\"\n",
    "    x = []\n",
    "    y = [y0]\n",
    "    z = [z0]\n",
    "    h = (I[1] - I[0])/n\n",
    "    for l in range(n+1):\n",
    "        x.append(I[0] + h * l)\n",
    "    for l in range(1, n+1):\n",
    "        K1y = f(x[l-1], y[l-1], z[l-1])\n",
    "        K1z = g(x[l-1], y[l-1], z[l-1])\n",
    "        \n",
    "        K2y = f(x[l-1]+h/2, y[l-1] + h/2 * K1y, z[l-1] + h/2 * K1z)\n",
    "        K2z = g(x[l-1]+h/2, y[l-1] + h/2 * K1y, z[l-1] + h/2 * K1z)\n",
    "        \n",
    "        y.append(y[l-1] + (K2y)/2)\n",
    "        z.append(z[l-1] + (K2z)/2)\n",
    "    Y = []\n",
    "    for i in range(len(y)):\n",
    "        tmp = [y[i], z[i]]\n",
    "        Y.append(tmp)\n",
    "        \n",
    "    return np.array(Y)"
   ]
  },
  {
   "cell_type": "code",
   "execution_count": 37,
   "metadata": {},
   "outputs": [
    {
     "name": "stdout",
     "output_type": "stream",
     "text": [
      "[[ 4.         2.       ]\n",
      " [ 4.        -2.5      ]\n",
      " [ 1.90625   -4.3046875]]\n"
     ]
    }
   ],
   "source": [
    "y0 = 4\n",
    "z0 = 2\n",
    "I = [0, 1]\n",
    "n = 2\n",
    "f = lambda x, y, z: z\n",
    "g = lambda x, y, z: -x*z-2*y\n",
    "resultado = euler_sistema(y0, z0, n, I, f, g)\n",
    "print(resultado)"
   ]
  },
  {
   "cell_type": "markdown",
   "metadata": {},
   "source": [
    "# Método de Range-Kutta de ordem 4\n",
    "\n",
    "### $y_{l+1} = y_l + \\frac{h}{6} \\times (K_1 + 2 K_2 + 2 K_3 + K_4)$\n",
    "\n",
    "### $K_1 = f(x_l, y_l)$\n",
    "### $K_2 = f(x_l + \\frac{h}{2}, y_l + \\frac{h}{2} \\times K_1)$\n",
    "### $K_3 = f(x_l + \\frac{h}{2}, y_l + \\frac{h}{2} \\times K_2)$\n",
    "### $K_4 = f(x_l + h, y_l + h \\times K_3)$"
   ]
  },
  {
   "cell_type": "code",
   "execution_count": 8,
   "metadata": {},
   "outputs": [],
   "source": [
    "def runge_kutta_4(y0, n, I, f):\n",
    "    \"\"\"\n",
    "    y0: valor inicial de y\n",
    "    n: quantos pontos teremos no dominio I\n",
    "    I: lista do tipo [x0, xf]\n",
    "    f: função do tipo f(x,y) callback que com base em valor de x e y, retorna resultado \n",
    "    \"\"\"\n",
    "    x = []\n",
    "    y = [y0]\n",
    "    h = (I[1] - I[0])/n\n",
    "    for l in range(n+1):\n",
    "        x.append(I[0] + h * l)\n",
    "    \n",
    "    for l in range(1, n+1):\n",
    "        K1 = f(x[l-1], y[l-1])\n",
    "        K2 = f(x[l-1] + h/2, y[l-1] + K1*h/2)  \n",
    "        K3 = f(x[l-1] + h/2, y[l-1] + K2*h/2)  \n",
    "        K4 = f(x[l-1] + h, y[l-1] + K3*h)  \n",
    "        y.append(y[l-1] + (K1+2*K2+2*K3+K4)*h/6)\n",
    "    return np.array(y)"
   ]
  },
  {
   "cell_type": "code",
   "execution_count": 9,
   "metadata": {},
   "outputs": [
    {
     "name": "stdout",
     "output_type": "stream",
     "text": [
      "[1.         0.99501248]\n"
     ]
    }
   ],
   "source": [
    "y0 = 1\n",
    "I = [0, 0.1]\n",
    "n = 1\n",
    "f = lambda x, y: -x*y\n",
    "resultado = runge_kutta_4(y0, n, I, f)\n",
    "print(resultado)"
   ]
  },
  {
   "cell_type": "markdown",
   "metadata": {},
   "source": [
    "# Zero de Funções\n",
    "\n",
    "Cansei de fazer o markdown, então só vou falar o q vc precisa fazer\n",
    "\n",
    "Você vai ter uma função $f(x)$ e precisa determinar um intervalo $I = [a;b]$ em que a raiz seja isolada.\n",
    "\n",
    "Em outras palavras, neste intervalo só vai ter um $f(x)=0, x \\in I$ e então o algoritmo vai tentando achar qual é esse $x$"
   ]
  },
  {
   "cell_type": "code",
   "execution_count": 10,
   "metadata": {},
   "outputs": [],
   "source": [
    "def metodo_bisseccao(I, f, iteracoes):\n",
    "    \"\"\"\n",
    "    Recebe intervalo I, funcao callback f e numero de iterações\n",
    "    OBS: Nos parametros chame uma cópia de I, pois o mesmo vai ser alterado\n",
    "    durante execução!\n",
    "    \"\"\"\n",
    "    a = I[0]\n",
    "    b = I[1]\n",
    "    if iteracoes == 0:\n",
    "        return [(a+b)/2]\n",
    "    else:\n",
    "        lista_de_x = metodo_bisseccao(I, f, iteracoes-1)\n",
    "        x_anterior = lista_de_x[-1]\n",
    "        f_anterior = f(x_anterior)\n",
    "        if f_anterior == 0:\n",
    "            return lista_de_x\n",
    "        f_a = f(a)\n",
    "        f_b = f(b)\n",
    "        if f_a * f_anterior < 0:\n",
    "            I[1] = x_anterior\n",
    "            return lista_de_x + [(I[0] + x_anterior)/2]\n",
    "        else:\n",
    "            I[0] = x_anterior\n",
    "            return lista_de_x + [(I[1] + x_anterior)/2]\n",
    "            \n",
    "iteracoes_para_erro = lambda I, f, erro: round(math.log((I[1]-I[0])/erro, 2)) - 1 # Acha iteracoes para erro menor que erro\n",
    "    "
   ]
  },
  {
   "cell_type": "code",
   "execution_count": 11,
   "metadata": {},
   "outputs": [
    {
     "name": "stdout",
     "output_type": "stream",
     "text": [
      "55\n"
     ]
    }
   ],
   "source": [
    "I = [1, 2]\n",
    "f = lambda x: x*x*x - 2\n",
    "a = (metodo_bisseccao(I.copy(), f, 1))\n",
    "\n",
    "print(iteracoes_para_erro(I, f, 0.00000000000000001))\n"
   ]
  },
  {
   "cell_type": "markdown",
   "metadata": {},
   "source": [
    "# Métodos de Convergência\n",
    "\n",
    "A partir daqui as coisas ficam mais complicadas e um caderno de python não vai ajudar tanto, pq vc depende de derivadas de funções, então eu criei uma função que plota gráficos aproximados disso. O primeiro serve só pra plota grafico das derivadas e já da pra dar aquela analisada.\n",
    "\n",
    "## Ponto Fixo\n",
    "Achar zeros através de buscas binárias pode ser difícil e ineficientes (muitas iterações para reduzir o erro), o método do ponto fixo busca construir uma função $\\phi(x)$ a partir de $f(x)$, tal que $\\exists \\phi(x^*) = x^*$.\n",
    "\n",
    "Isso é útil, pois $0 = x^* - \\phi(x^*)$, então se: $f(x) = x - \\phi(x)$, podemos dizer:\n",
    "\n",
    "### $\\phi(x) = x + a(x)f(x), a(x) \\ne 0 {\\ }\\forall x$ $f(x^*) = 0 \\iff x^* = g(x^*)$\n",
    "\n",
    "### Regras para convergência do Ponto Fixo\n",
    "- $\\phi$ e $\\phi '$ são contínuas em I\n",
    "- $max|\\phi'(x)| \\le k \\lt 1, x\\in I$\n",
    "- $x_0 \\in I, x_{n+1} = \\phi(x_n) \\in I, n =0, 1, 2,...$\n",
    "\n",
    "Se isso for verdadeiro, $x_{n+1} = \\phi(x_n)$ converge para $x^*$\n",
    "\n",
    "\n",
    "### Escolhendo $x_0$\n",
    "Sendo $I = ]a; b[$\n",
    "Queremos $x_0$ sendo o extremo mais próximo de $I$\n",
    "1. se $g(\\frac{a+b}{2}) \\gt 0, b$ é o extremo mais próximo de $x_0$\n",
    "2. se $g(\\frac{a+b}{2}) \\lt 0, a$ é o extremo mais próximo de $x_0$\n",
    "3. se $g(\\frac{a+b}{2}) = 0$ você achou $x^* = \\frac{a+b}{2}$\n",
    "\n",
    "\n",
    "## Convergência de Newton\n",
    "Caso particular do ponto fixo\n",
    "Constrói $\\phi(x)$ de forma que $\\phi'(x) = 0$\n",
    "### $\\phi (x_n) = x_{n+1} = x_n - \\frac{f(x_n)}{f'(x_n)}$\n",
    "### Regras para convergência de Newton\n",
    " - $f'(x)$ e $f''(x)$ são contínuas em $[a;b]$\n",
    " - $f'(x) \\ne 0 $ e $f''(x) \\ne 0$ para $x \\in [a;b]$\n",
    " - $f'(x)$ e $f''(x)$ são contínuas em $[a;b]$\n",
    "  \n"
   ]
  },
  {
   "cell_type": "code",
   "execution_count": 12,
   "metadata": {},
   "outputs": [],
   "source": [
    "def plota_funcao(I, f, n_pontos = 10000):\n",
    "    NUMERO_DE_PONTOS=n_pontos\n",
    "    DELTA_X = 0.001\n",
    "    DELTA_X_2 = DELTA_X * DELTA_X\n",
    "    \n",
    "    x = [I[0]]\n",
    "    y = [f(x[0])]\n",
    "    zeros = [0]\n",
    "    x_linha = []\n",
    "    y_linha = []\n",
    "    aumento = (I[1] - I[0])/ NUMERO_DE_PONTOS\n",
    "    \n",
    "    for i in range(1, NUMERO_DE_PONTOS):\n",
    "        x.append(x[i-1] + aumento)\n",
    "        y.append(f(x[i]))\n",
    "        zeros.append(0)\n",
    "        \n",
    "    fig, ax = plt.subplots()\n",
    "    ax.plot(x, y, label = \"Função\")\n",
    "    ax.set_title(\"f(x)\")\n",
    "    plt.show()\n",
    "    \n",
    "    fig, ax = plt.subplots()\n",
    "    \n",
    "    for i in range(NUMERO_DE_PONTOS):\n",
    "        tg = 2 * DELTA_X\n",
    "        y_linha.append((-f(x[i] - DELTA_X) + f(x[i] + DELTA_X))/tg)\n",
    "    ax.plot(x, y_linha)\n",
    "    ax.set_title(\"f'(x)\")\n",
    "    plt.show()\n",
    "    DELTA_X = 0.1\n",
    "    \n",
    "    fig, ax = plt.subplots()\n",
    "    y_2_linha = []\n",
    "    for i in range(NUMERO_DE_PONTOS):\n",
    "\n",
    "        y_2_linha.append((f(x[i]+DELTA_X) - 2*f(x[i]) + f(x[i]-DELTA_X))/(DELTA_X_2))\n",
    "    ax.plot(x, y_2_linha)\n",
    "    \n",
    "    plt.show()\n",
    "    print(len(x))"
   ]
  },
  {
   "cell_type": "code",
   "execution_count": 13,
   "metadata": {},
   "outputs": [
    {
     "data": {
      "image/png": "[encoded data removed]",
      "text/plain": [
       "<Figure size 432x288 with 1 Axes>"
      ]
     },
     "metadata": {
      "needs_background": "light"
     },
     "output_type": "display_data"
    },
    {
     "data": {
      "image/png": "[encoded data removed]",
      "text/plain": [
       "<Figure size 432x288 with 1 Axes>"
      ]
     },
     "metadata": {
      "needs_background": "light"
     },
     "output_type": "display_data"
    },
    {
     "data": {
      "image/png": "[encoded data removed]",
      "text/plain": [
       "<Figure size 432x288 with 1 Axes>"
      ]
     },
     "metadata": {
      "needs_background": "light"
     },
     "output_type": "display_data"
    },
    {
     "name": "stdout",
     "output_type": "stream",
     "text": [
      "100\n"
     ]
    }
   ],
   "source": [
    "I = [-1, 1]\n",
    "funcao = lambda x: x*x*x*x\n",
    "plota_funcao(I, funcao, 100)"
   ]
  },
  {
   "cell_type": "code",
   "execution_count": 16,
   "metadata": {},
   "outputs": [],
   "source": [
    "def acha_x0(I, g):\n",
    "    conta = g((I[0] + I[1])/2)\n",
    "    if conta == 0:\n",
    "        return conta\n",
    "    if conta > 0:\n",
    "        return I[1]\n",
    "    else:\n",
    "        return I[0]\n",
    "\n",
    "def ponto_fixo_oscilante(I, g, iteracoes, erro):\n",
    "    x0 = acha_x0(I, g)\n",
    "    x = [x0]\n",
    "    k = 0\n",
    "    while k <= iteracoes:\n",
    "        x.append(g(x[-1]))\n",
    "        if abs(x[-1] - x[-2]) <= erro:\n",
    "            break\n",
    "        else:\n",
    "            k += 1\n",
    "    return x[-1]\n",
    "\n",
    "def ponto_fixo(I, g, iteracoes, erro, crescente, phi):\n",
    "    x0 = acha_x0(I, g)\n",
    "    x = x[x0]\n",
    "    k = 0\n",
    "    if not crescente:\n",
    "        erro *= -1 \n",
    "    while k <= iteracoes:\n",
    "        x.append(g(x[-1]))\n",
    "        if phi(g, x[-1] + 2*erro) > 0:\n",
    "            k += 1\n",
    "        else:\n",
    "            break\n",
    "    return x[-1] + erro\n",
    "\n",
    "def ponto_fixo_crescente(I, g, iteracoes, erro):\n",
    "    phi=lambda g, x: g(x) - x\n",
    "    return ponto_fixo(I, g, iteracoes, erro, True, phi)\n",
    "    \n",
    "\n",
    "\n",
    "def ponto_fixo_decrescente(I, g, iteracoes, erro):\n",
    "    phi=lambda g, x: g(x) - x\n",
    "    return ponto_fixo(I, g, iteracoes, erro, False, phi)\n",
    "\n",
    "def metodo_newton_crescente(I, f, f_linha, iteracoes):\n",
    "    g = lambda x: x - f(x)/f_linha(x)\n",
    "    phi = lambda g, x: g(x) - x\n",
    "    return ponto_fixo(I, g, iteracoes, erro, True, phi)\n",
    "\n",
    "def metodo_newton_decrescente(I, f, f_linha, iteracoes):\n",
    "    g = lambda x: x - f(x)/f_linha(x)\n",
    "    phi = lambda g, x: g(x) - x\n",
    "    return ponto_fixo(I, g, iteracoes, erro, False, phi)\n",
    "    \n",
    "    "
   ]
  },
  {
   "cell_type": "code",
   "execution_count": null,
   "metadata": {},
   "outputs": [],
   "source": []
  }
 ],
 "metadata": {
  "kernelspec": {
   "display_name": "Python 3",
   "language": "python",
   "name": "python3"
  },
  "language_info": {
   "codemirror_mode": {
    "name": "ipython",
    "version": 3
   },
   "file_extension": ".py",
   "mimetype": "text/x-python",
   "name": "python",
   "nbconvert_exporter": "python",
   "pygments_lexer": "ipython3",
   "version": "3.7.7"
  }
 },
 "nbformat": 4,
 "nbformat_minor": 4
}
